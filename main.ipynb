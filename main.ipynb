{
 "cells": [
  {
   "cell_type": "markdown",
   "metadata": {},
   "source": [
    "### Credit Risk Model using Machine Leanring "
   ]
  },
  {
   "cell_type": "markdown",
   "metadata": {},
   "source": [
    "Dataset: https://www.kaggle.com/competitions/GiveMeSomeCredit/data\n",
    "\n",
    "In this project, we aim to predict the likelihood of a customer defaulting on their credit within two years, using a dataset of past customer behavior. With increasing financial instability, accurately predicting credit defaults is crucial for lenders to make informed decisions, minimize risk, and offer responsible lending solutions. The dataset contains key attributes, such as debt ratio, monthly income, and age, which can help build a model capable of identifying high-risk customers.\n"
   ]
  },
  {
   "cell_type": "code",
   "execution_count": 16,
   "metadata": {},
   "outputs": [],
   "source": [
    "import pandas as pd\n",
    "import numpy as np\n",
    "import seaborn as sns\n",
    "import matplotlib.pyplot as plt\n",
    "from sklearn.preprocessing import MinMaxScaler\n",
    "from sklearn.model_selection import train_test_split\n"
   ]
  },
  {
   "cell_type": "markdown",
   "metadata": {},
   "source": [
    "We start by loading and inspecting the dataset to understand its structure, the types of variables, and basic statistics like means, medians, and ranges. This helps identify potential issues such as missing values or incorrect data types."
   ]
  },
  {
   "cell_type": "code",
   "execution_count": 17,
   "metadata": {},
   "outputs": [
    {
     "data": {
      "text/html": [
       "<div>\n",
       "<style scoped>\n",
       "    .dataframe tbody tr th:only-of-type {\n",
       "        vertical-align: middle;\n",
       "    }\n",
       "\n",
       "    .dataframe tbody tr th {\n",
       "        vertical-align: top;\n",
       "    }\n",
       "\n",
       "    .dataframe thead th {\n",
       "        text-align: right;\n",
       "    }\n",
       "</style>\n",
       "<table border=\"1\" class=\"dataframe\">\n",
       "  <thead>\n",
       "    <tr style=\"text-align: right;\">\n",
       "      <th></th>\n",
       "      <th>SeriousDlqin2yrs</th>\n",
       "      <th>RevolvingUtilizationOfUnsecuredLines</th>\n",
       "      <th>age</th>\n",
       "      <th>NumberOfTime30-59DaysPastDueNotWorse</th>\n",
       "      <th>DebtRatio</th>\n",
       "      <th>MonthlyIncome</th>\n",
       "      <th>NumberOfOpenCreditLinesAndLoans</th>\n",
       "      <th>NumberOfTimes90DaysLate</th>\n",
       "      <th>NumberRealEstateLoansOrLines</th>\n",
       "      <th>NumberOfTime60-89DaysPastDueNotWorse</th>\n",
       "      <th>NumberOfDependents</th>\n",
       "    </tr>\n",
       "  </thead>\n",
       "  <tbody>\n",
       "    <tr>\n",
       "      <th>count</th>\n",
       "      <td>150000.000000</td>\n",
       "      <td>150000.000000</td>\n",
       "      <td>150000.000000</td>\n",
       "      <td>150000.000000</td>\n",
       "      <td>150000.000000</td>\n",
       "      <td>1.202690e+05</td>\n",
       "      <td>150000.000000</td>\n",
       "      <td>150000.000000</td>\n",
       "      <td>150000.000000</td>\n",
       "      <td>150000.000000</td>\n",
       "      <td>146076.000000</td>\n",
       "    </tr>\n",
       "    <tr>\n",
       "      <th>mean</th>\n",
       "      <td>0.066840</td>\n",
       "      <td>6.048438</td>\n",
       "      <td>52.295207</td>\n",
       "      <td>0.421033</td>\n",
       "      <td>353.005076</td>\n",
       "      <td>6.670221e+03</td>\n",
       "      <td>8.452760</td>\n",
       "      <td>0.265973</td>\n",
       "      <td>1.018240</td>\n",
       "      <td>0.240387</td>\n",
       "      <td>0.757222</td>\n",
       "    </tr>\n",
       "    <tr>\n",
       "      <th>std</th>\n",
       "      <td>0.249746</td>\n",
       "      <td>249.755371</td>\n",
       "      <td>14.771866</td>\n",
       "      <td>4.192781</td>\n",
       "      <td>2037.818523</td>\n",
       "      <td>1.438467e+04</td>\n",
       "      <td>5.145951</td>\n",
       "      <td>4.169304</td>\n",
       "      <td>1.129771</td>\n",
       "      <td>4.155179</td>\n",
       "      <td>1.115086</td>\n",
       "    </tr>\n",
       "    <tr>\n",
       "      <th>min</th>\n",
       "      <td>0.000000</td>\n",
       "      <td>0.000000</td>\n",
       "      <td>0.000000</td>\n",
       "      <td>0.000000</td>\n",
       "      <td>0.000000</td>\n",
       "      <td>0.000000e+00</td>\n",
       "      <td>0.000000</td>\n",
       "      <td>0.000000</td>\n",
       "      <td>0.000000</td>\n",
       "      <td>0.000000</td>\n",
       "      <td>0.000000</td>\n",
       "    </tr>\n",
       "    <tr>\n",
       "      <th>25%</th>\n",
       "      <td>0.000000</td>\n",
       "      <td>0.029867</td>\n",
       "      <td>41.000000</td>\n",
       "      <td>0.000000</td>\n",
       "      <td>0.175074</td>\n",
       "      <td>3.400000e+03</td>\n",
       "      <td>5.000000</td>\n",
       "      <td>0.000000</td>\n",
       "      <td>0.000000</td>\n",
       "      <td>0.000000</td>\n",
       "      <td>0.000000</td>\n",
       "    </tr>\n",
       "    <tr>\n",
       "      <th>50%</th>\n",
       "      <td>0.000000</td>\n",
       "      <td>0.154181</td>\n",
       "      <td>52.000000</td>\n",
       "      <td>0.000000</td>\n",
       "      <td>0.366508</td>\n",
       "      <td>5.400000e+03</td>\n",
       "      <td>8.000000</td>\n",
       "      <td>0.000000</td>\n",
       "      <td>1.000000</td>\n",
       "      <td>0.000000</td>\n",
       "      <td>0.000000</td>\n",
       "    </tr>\n",
       "    <tr>\n",
       "      <th>75%</th>\n",
       "      <td>0.000000</td>\n",
       "      <td>0.559046</td>\n",
       "      <td>63.000000</td>\n",
       "      <td>0.000000</td>\n",
       "      <td>0.868254</td>\n",
       "      <td>8.249000e+03</td>\n",
       "      <td>11.000000</td>\n",
       "      <td>0.000000</td>\n",
       "      <td>2.000000</td>\n",
       "      <td>0.000000</td>\n",
       "      <td>1.000000</td>\n",
       "    </tr>\n",
       "    <tr>\n",
       "      <th>max</th>\n",
       "      <td>1.000000</td>\n",
       "      <td>50708.000000</td>\n",
       "      <td>109.000000</td>\n",
       "      <td>98.000000</td>\n",
       "      <td>329664.000000</td>\n",
       "      <td>3.008750e+06</td>\n",
       "      <td>58.000000</td>\n",
       "      <td>98.000000</td>\n",
       "      <td>54.000000</td>\n",
       "      <td>98.000000</td>\n",
       "      <td>20.000000</td>\n",
       "    </tr>\n",
       "  </tbody>\n",
       "</table>\n",
       "</div>"
      ],
      "text/plain": [
       "       SeriousDlqin2yrs  RevolvingUtilizationOfUnsecuredLines            age  \\\n",
       "count     150000.000000                         150000.000000  150000.000000   \n",
       "mean           0.066840                              6.048438      52.295207   \n",
       "std            0.249746                            249.755371      14.771866   \n",
       "min            0.000000                              0.000000       0.000000   \n",
       "25%            0.000000                              0.029867      41.000000   \n",
       "50%            0.000000                              0.154181      52.000000   \n",
       "75%            0.000000                              0.559046      63.000000   \n",
       "max            1.000000                          50708.000000     109.000000   \n",
       "\n",
       "       NumberOfTime30-59DaysPastDueNotWorse      DebtRatio  MonthlyIncome  \\\n",
       "count                         150000.000000  150000.000000   1.202690e+05   \n",
       "mean                               0.421033     353.005076   6.670221e+03   \n",
       "std                                4.192781    2037.818523   1.438467e+04   \n",
       "min                                0.000000       0.000000   0.000000e+00   \n",
       "25%                                0.000000       0.175074   3.400000e+03   \n",
       "50%                                0.000000       0.366508   5.400000e+03   \n",
       "75%                                0.000000       0.868254   8.249000e+03   \n",
       "max                               98.000000  329664.000000   3.008750e+06   \n",
       "\n",
       "       NumberOfOpenCreditLinesAndLoans  NumberOfTimes90DaysLate  \\\n",
       "count                    150000.000000            150000.000000   \n",
       "mean                          8.452760                 0.265973   \n",
       "std                           5.145951                 4.169304   \n",
       "min                           0.000000                 0.000000   \n",
       "25%                           5.000000                 0.000000   \n",
       "50%                           8.000000                 0.000000   \n",
       "75%                          11.000000                 0.000000   \n",
       "max                          58.000000                98.000000   \n",
       "\n",
       "       NumberRealEstateLoansOrLines  NumberOfTime60-89DaysPastDueNotWorse  \\\n",
       "count                 150000.000000                         150000.000000   \n",
       "mean                       1.018240                              0.240387   \n",
       "std                        1.129771                              4.155179   \n",
       "min                        0.000000                              0.000000   \n",
       "25%                        0.000000                              0.000000   \n",
       "50%                        1.000000                              0.000000   \n",
       "75%                        2.000000                              0.000000   \n",
       "max                       54.000000                             98.000000   \n",
       "\n",
       "       NumberOfDependents  \n",
       "count       146076.000000  \n",
       "mean             0.757222  \n",
       "std              1.115086  \n",
       "min              0.000000  \n",
       "25%              0.000000  \n",
       "50%              0.000000  \n",
       "75%              1.000000  \n",
       "max             20.000000  "
      ]
     },
     "execution_count": 17,
     "metadata": {},
     "output_type": "execute_result"
    }
   ],
   "source": [
    "train = pd.read_csv(\"GiveMeSomeCredit/cs-training.csv\").drop(['Unnamed: 0'], axis=1)\n",
    "\n",
    "train.describe()\n"
   ]
  },
  {
   "cell_type": "markdown",
   "metadata": {},
   "source": [
    "##### Handling Duplicates\n",
    "We remove any duplicate entries from the dataset to ensure that the analysis is based on unique observations. Duplicates can distort our visualizations and model performance if not handled properly."
   ]
  },
  {
   "cell_type": "code",
   "execution_count": 18,
   "metadata": {},
   "outputs": [
    {
     "name": "stdout",
     "output_type": "stream",
     "text": [
      "Number of rows after duplicates have been dropped: 149391\n"
     ]
    }
   ],
   "source": [
    "train_clean_data = train.drop_duplicates()\n",
    "print(f'Number of rows after duplicates have been dropped: {len(train_clean_data)}')"
   ]
  },
  {
   "cell_type": "markdown",
   "metadata": {},
   "source": [
    "### Missing Data Analysis\n",
    "To ensure we handle missing data properly, we first identify how many missing values there are in each column, both in terms of counts and percentages."
   ]
  },
  {
   "cell_type": "code",
   "execution_count": 19,
   "metadata": {},
   "outputs": [
    {
     "name": "stdout",
     "output_type": "stream",
     "text": [
      "SeriousDlqin2yrs                         0.000000\n",
      "RevolvingUtilizationOfUnsecuredLines     0.000000\n",
      "age                                      0.000000\n",
      "NumberOfTime30-59DaysPastDueNotWorse     0.000000\n",
      "DebtRatio                                0.000000\n",
      "MonthlyIncome                           19.560081\n",
      "NumberOfOpenCreditLinesAndLoans          0.000000\n",
      "NumberOfTimes90DaysLate                  0.000000\n",
      "NumberRealEstateLoansOrLines             0.000000\n",
      "NumberOfTime60-89DaysPastDueNotWorse     0.000000\n",
      "NumberOfDependents                       2.562403\n",
      "dtype: float64\n"
     ]
    }
   ],
   "source": [
    "missing_values_percentage = train_clean_data.isnull().sum() / len(train_clean_data) * 100\n",
    "print(missing_values_percentage)\n"
   ]
  },
  {
   "cell_type": "markdown",
   "metadata": {},
   "source": [
    "### Handling Missing Data\n",
    "- For the **MonthlyIncome** field, which has 19.25% missing data, we use median imputation because the median is less sensitive to extreme values than the mean.\n",
    "- For the **NumberOfDependents** field, which has 2.5% missing data, we also use median imputation, as the percentage of missing data is small and the median is appropriate for a numerical variable like this."
   ]
  },
  {
   "cell_type": "code",
   "execution_count": 20,
   "metadata": {},
   "outputs": [],
   "source": [
    "# Handle MonthlyIncome missing data \n",
    "median_income = train_clean_data['MonthlyIncome'].median()\n",
    "train_clean_data.loc[:, 'MonthlyIncome'] = train_clean_data['MonthlyIncome'].fillna(median_income)\n",
    "\n",
    "#Handle NumberOfDependants missing data\n",
    "median_dependants = train_clean_data['NumberOfDependents'].median()\n",
    "train_clean_data.loc[:, 'NumberOfDependents'] = train_clean_data['NumberOfDependents'].fillna(median_dependants)"
   ]
  },
  {
   "cell_type": "markdown",
   "metadata": {},
   "source": [
    "### Data Processing "
   ]
  },
  {
   "cell_type": "code",
   "execution_count": 21,
   "metadata": {},
   "outputs": [
    {
     "data": {
      "image/png": "[encoded data removed]",
      "text/plain": [
       "<Figure size 800x500 with 1 Axes>"
      ]
     },
     "metadata": {},
     "output_type": "display_data"
    }
   ],
   "source": [
    "# Box plot for Debt Ratio\n",
    "plt.figure(figsize=(8, 5))\n",
    "sns.boxplot(x=train_clean_data['MonthlyIncome'])\n",
    "plt.title('Box Plot of Monthly Incone')\n",
    "plt.xlabel('Monthly Income')\n",
    "plt.show()"
   ]
  },
  {
   "cell_type": "code",
   "execution_count": 22,
   "metadata": {},
   "outputs": [
    {
     "data": {
      "text/plain": [
       "<Axes: xlabel='DebtRatio', ylabel='Density'>"
      ]
     },
     "execution_count": 22,
     "metadata": {},
     "output_type": "execute_result"
    },
    {
     "data": {
      "image/png": "[encoded data removed]",
      "text/plain": [
       "<Figure size 640x480 with 1 Axes>"
      ]
     },
     "metadata": {},
     "output_type": "display_data"
    }
   ],
   "source": [
    "sns.kdeplot(train_clean_data['DebtRatio'])\n"
   ]
  },
  {
   "cell_type": "markdown",
   "metadata": {},
   "source": [
    "#### DebtRatio Capping\n",
    "\n",
    "DebtRatio shows a skewed distribution, with values going as high as 329,664. Such extreme values are unlikely to be legitimate and may represent data entry errors or exceptional cases that do not generalize well. Hence, we capped the `DebtRatio` at the 97th percentile to remove extreme outliers while preserving the majority of the data distribution."
   ]
  },
  {
   "cell_type": "code",
   "execution_count": null,
   "metadata": {},
   "outputs": [],
   "source": [
    "debt_ratio_97percentile = np.percentile(train_clean_data['DebtRatio'], 97)\n",
    "train_clean_data['DebtRatio_Cap'] = np.where(train_clean_data['DebtRatio'] > debt_ratio_97percentile, debt_ratio_97percentile, train_clean_data['DebtRatio'])\n",
    "\n",
    "train_clean_data['DebtRatio_Cap'].describe()"
   ]
  },
  {
   "cell_type": "markdown",
   "metadata": {},
   "source": [
    "### Monthly Incone and RevolvingUtilizationOfUnsecuredLines Capping \n",
    "Both feature also have skewed distribution which may affect model performance , these values may represent extreme cases in the case of MonthlyIncome and data errors in the case of RevolvingUtilizationOfUnsecuredLines, hence we will also cap them to the 97th percentile. "
   ]
  },
  {
   "cell_type": "code",
   "execution_count": null,
   "metadata": {},
   "outputs": [],
   "source": [
    "monthly_income_97percentile =  np.percentile(train_clean_data['MonthlyIncome'], 97)\n",
    "ruoucl_97percentile = np.percentile(train_clean_data[\"RevolvingUtilizationOfUnsecuredLines\"], 97)\n",
    "\n",
    "train_clean_data['MonthlyIncome_cap'] = np.where(train_clean_data['MonthlyIncome'] > monthly_income_97percentile, monthly_income_97percentile, train_clean_data[\"MonthlyIncome\"])\n",
    "\n",
    "train_clean_data['RevolvingUtilizationOfUnsecuredLines_cap'] = np.where(train_clean_data['RevolvingUtilizationOfUnsecuredLines'] > \n",
    "                                                                        ruoucl_97percentile, ruoucl_97percentile, train_clean_data['RevolvingUtilizationOfUnsecuredLines'])\n",
    "\n",
    " "
   ]
  },
  {
   "cell_type": "markdown",
   "metadata": {},
   "source": [
    "### Feature Scaling \n",
    "Feature scaling is important because it brings all features into a similar range, which improves the performance and convergence of many machine learning algorithms by preventing features with larger ranges from disproportionately influencing the model."
   ]
  },
  {
   "cell_type": "code",
   "execution_count": null,
   "metadata": {},
   "outputs": [],
   "source": [
    "cols_to_scale = ['MonthlyIncome_cap', 'RevolvingUtilizationOfUnsecuredLines_cap', 'age', 'NumberOfTime30-59DaysPastDueNotWorse', 'DebtRatio_Cap', 'NumberOfOpenCreditLinesAndLoans', \n",
    "                 'NumberOfTimes90DaysLate', 'NumberRealEstateLoansOrLines', 'NumberOfTime60-89DaysPastDueNotWorse', 'NumberOfDependents']\n",
    "\n",
    "scaler = MinMaxScaler()\n",
    "\n",
    "train_clean_data[cols_to_scale] = scaler.fit_transform(train_clean_data[cols_to_scale])\n",
    "\n"
   ]
  },
  {
   "cell_type": "markdown",
   "metadata": {},
   "source": [
    "### Resampling \n",
    "Resampling, particularly using SMOTE (Synthetic Minority Over-sampling Technique), is essential when dealing with imbalanced data, as it helps create a balanced class distribution by generating synthetic samples for the minority class. This approach improves the model’s ability to learn patterns from both classes, leading to more accurate predictions and reducing bias toward the majority class."
   ]
  },
  {
   "cell_type": "code",
   "execution_count": 26,
   "metadata": {},
   "outputs": [
    {
     "name": "stdout",
     "output_type": "stream",
     "text": [
      "SeriousDlqin2yrs\n",
      "1    139382\n",
      "0    139382\n",
      "Name: count, dtype: int64\n"
     ]
    }
   ],
   "source": [
    "from imblearn.over_sampling import SMOTE\n",
    "\n",
    "X = train_clean_data.drop(columns=['MonthlyIncome', 'DebtRatio', 'RevolvingUtilizationOfUnsecuredLines', 'SeriousDlqin2yrs'])\n",
    "y = train_clean_data['SeriousDlqin2yrs']\n",
    "\n",
    "smote = SMOTE(random_state=42)\n",
    "X_resampled , y_resampled = smote.fit_resample(X, y)\n",
    "\n",
    "train_resampled = pd.DataFrame(X_resampled, columns=X.columns)\n",
    "train_resampled['SeriousDlqin2yrs'] = y_resampled\n",
    "\n",
    "print(train_resampled['SeriousDlqin2yrs'].value_counts())"
   ]
  },
  {
   "cell_type": "markdown",
   "metadata": {},
   "source": [
    "### Model Building "
   ]
  },
  {
   "cell_type": "code",
   "execution_count": 27,
   "metadata": {},
   "outputs": [],
   "source": [
    "# Data Split \n",
    "\n",
    "X  =  train_resampled.drop(columns=['SeriousDlqin2yrs'])\n",
    "y = train_resampled['SeriousDlqin2yrs']\n",
    "\n",
    "X_train, X_val, y_train, y_val  = train_test_split(X, y, test_size=0.2, random_state=42)\n"
   ]
  },
  {
   "cell_type": "code",
   "execution_count": null,
   "metadata": {},
   "outputs": [],
   "source": [
    "import xgboost as xgb \n",
    "\n",
    "model = xgb.XGBClassifier(use_label_encoder=False, eval_metric='logloss')\n",
    "model.fit(X_train, y_train)\n",
    "\n"
   ]
  },
  {
   "cell_type": "code",
   "execution_count": 29,
   "metadata": {},
   "outputs": [
    {
     "name": "stdout",
     "output_type": "stream",
     "text": [
      "Accuracy: 0.9578677380589385\n",
      "\n",
      "Classification Report:\n",
      "               precision    recall  f1-score   support\n",
      "\n",
      "           0       0.94      0.98      0.96     27889\n",
      "           1       0.98      0.93      0.96     27864\n",
      "\n",
      "    accuracy                           0.96     55753\n",
      "   macro avg       0.96      0.96      0.96     55753\n",
      "weighted avg       0.96      0.96      0.96     55753\n",
      "\n"
     ]
    }
   ],
   "source": [
    "# Model Evaluation \n",
    "from sklearn.metrics import classification_report, accuracy_score\n",
    "\n",
    "# Make predictions\n",
    "y_pred = model.predict(X_val)\n",
    "\n",
    "# Evaluate the model's performance\n",
    "print(\"Accuracy:\", accuracy_score(y_val, y_pred))\n",
    "print(\"\\nClassification Report:\\n\", classification_report(y_val, y_pred))"
   ]
  },
  {
   "cell_type": "markdown",
   "metadata": {},
   "source": [
    "### Model Perfomace Evaluation \n",
    "\n",
    "Overall Model perfomance is very promising.\n",
    "\n",
    "##### Precision \n",
    "\n",
    "Class 0(Non Defaulters): 0.94\n",
    "Class 1(Default):  0.98\n",
    "\n",
    "Precision measures the accuracy of positive predictions. A precision of 0.98 for class 1 indicates that when the model predicts a default, it is correct 98% of the time. The precision of 0.94 for class 0 is also good, indicating that 94% of non-default predictions are correct.\n",
    "\n",
    "\n",
    "#### Recall \n",
    "\n",
    "Class 0(non defaulters): 0.98\n",
    "Class 1 (defaulters): 0.93\n",
    "\n",
    "Recall measures the ability to find all positive instances. A recall of 0.98 for class 0 indicates that the model captures 98% of the true non-default instances. For class 1, a recall of 0.93 indicates that 93% of actual defaults are correctly identified.\n",
    "\n",
    "\n",
    "#### F1-Score \n",
    "\n",
    "Class 0: 0.96\n",
    "Class 1: 0.96\n",
    "\n",
    "The F1-score is the harmonic mean of precision and recall. The scores being equal at 0.96 for both classes indicate a good balance between precision and recall, making this model effective in distinguishing between the two classes."
   ]
  }
 ],
 "metadata": {
  "kernelspec": {
   "display_name": "ml-3.9",
   "language": "python",
   "name": "python3"
  },
  "language_info": {
   "codemirror_mode": {
    "name": "ipython",
    "version": 3
   },
   "file_extension": ".py",
   "mimetype": "text/x-python",
   "name": "python",
   "nbconvert_exporter": "python",
   "pygments_lexer": "ipython3",
   "version": "3.9.20"
  }
 },
 "nbformat": 4,
 "nbformat_minor": 2
}
